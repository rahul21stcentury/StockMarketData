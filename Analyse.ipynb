{
 "cells": [
  {
   "cell_type": "code",
   "execution_count": 1,
   "id": "67304680",
   "metadata": {},
   "outputs": [],
   "source": [
    "from nsetools import Nse\n",
    "from nsepy import get_history\n",
    "nse=Nse()\n",
    "from datetime import date\n",
    "import seaborn as sns\n",
    "import numpy as np\n",
    "import matplotlib.pyplot as plt"
   ]
  },
  {
   "cell_type": "code",
   "execution_count": 2,
   "id": "85aab4fa",
   "metadata": {},
   "outputs": [],
   "source": [
    "import pandas as pd"
   ]
  },
  {
   "cell_type": "code",
   "execution_count": 3,
   "id": "50005520",
   "metadata": {},
   "outputs": [],
   "source": [
    "all_stock_codes = nse.get_stock_codes()    ### Taking all sock codes from NSE\n",
    "stock_codes=list(all_stock_codes.keys())"
   ]
  },
  {
   "cell_type": "code",
   "execution_count": 4,
   "id": "35865efb",
   "metadata": {},
   "outputs": [],
   "source": [
    "notprocessed=[]   ### Stocks that Cant be processed"
   ]
  },
  {
   "cell_type": "code",
   "execution_count": 5,
   "id": "bdd39266",
   "metadata": {},
   "outputs": [],
   "source": [
    "stock_codes=['HINDZINC','TATAMOTORS']   ###Put your NSE codes here if you want analyse specific else you can comment it\n",
    "## Which will do it for 1400 stocks\n",
    "ph_name=stock_codes[0]"
   ]
  },
  {
   "cell_type": "code",
   "execution_count": 6,
   "id": "22142f40",
   "metadata": {},
   "outputs": [],
   "source": [
    "stocks={}"
   ]
  },
  {
   "cell_type": "code",
   "execution_count": 7,
   "id": "8f979c26",
   "metadata": {
    "scrolled": false
   },
   "outputs": [],
   "source": [
    "from statistics import mean\n",
    "from statistics import stdev\n",
    "for sym in stock_codes:\n",
    "    df = get_history(symbol=sym,\n",
    "                        start=date(2021,4,21), ###Define Start and End dates \n",
    "                        end=date(2021,9,27))\n",
    "    try:\n",
    "        obj={'Name':df['Symbol'][0],'gain':[(100/df['Close'][i-1])*(df['Close'][i]-df['Close'][i-1]) for i in range(1,len(df['Close']))],'delivery':[i for i in df['%Deliverble']],'close':[df['Close'][i] for i in range(1,len(df['Close']))]}\n",
    "        obj['mean']=mean(obj['gain'])\n",
    "        obj['std']=stdev(obj['gain'])\n",
    "        stocks[obj['Name']]=obj\n",
    "    except:\n",
    "        #print(sym)\n",
    "        pass"
   ]
  },
  {
   "cell_type": "code",
   "execution_count": null,
   "id": "c245aafb",
   "metadata": {},
   "outputs": [],
   "source": []
  },
  {
   "cell_type": "code",
   "execution_count": 8,
   "id": "d7254f00",
   "metadata": {},
   "outputs": [],
   "source": [
    "table=pd.DataFrame()\n",
    "names=[]\n",
    "mean=[]\n",
    "std=[]\n",
    "for i in list(stocks.keys()):\n",
    "    names.append(i)\n",
    "    mean.append(stocks[i]['mean'])\n",
    "    std.append(stocks[i]['std'])\n",
    "table['name']=names\n",
    "table['mean']=mean\n",
    "table['std']=std"
   ]
  },
  {
   "cell_type": "code",
   "execution_count": 9,
   "id": "8822a0c6",
   "metadata": {},
   "outputs": [],
   "source": [
    "ob1=table.sort_values(by=['std'])"
   ]
  },
  {
   "cell_type": "code",
   "execution_count": 10,
   "id": "2c1f7b1a",
   "metadata": {},
   "outputs": [
    {
     "data": {
      "text/html": [
       "<div>\n",
       "<style scoped>\n",
       "    .dataframe tbody tr th:only-of-type {\n",
       "        vertical-align: middle;\n",
       "    }\n",
       "\n",
       "    .dataframe tbody tr th {\n",
       "        vertical-align: top;\n",
       "    }\n",
       "\n",
       "    .dataframe thead th {\n",
       "        text-align: right;\n",
       "    }\n",
       "</style>\n",
       "<table border=\"1\" class=\"dataframe\">\n",
       "  <thead>\n",
       "    <tr style=\"text-align: right;\">\n",
       "      <th></th>\n",
       "      <th>name</th>\n",
       "      <th>mean</th>\n",
       "      <th>std</th>\n",
       "    </tr>\n",
       "  </thead>\n",
       "  <tbody>\n",
       "    <tr>\n",
       "      <th>0</th>\n",
       "      <td>HINDZINC</td>\n",
       "      <td>0.074517</td>\n",
       "      <td>1.843817</td>\n",
       "    </tr>\n",
       "    <tr>\n",
       "      <th>1</th>\n",
       "      <td>TATAMOTORS</td>\n",
       "      <td>0.129970</td>\n",
       "      <td>2.002644</td>\n",
       "    </tr>\n",
       "  </tbody>\n",
       "</table>\n",
       "</div>"
      ],
      "text/plain": [
       "         name      mean       std\n",
       "0    HINDZINC  0.074517  1.843817\n",
       "1  TATAMOTORS  0.129970  2.002644"
      ]
     },
     "execution_count": 10,
     "metadata": {},
     "output_type": "execute_result"
    }
   ],
   "source": [
    "ob1"
   ]
  },
  {
   "cell_type": "code",
   "execution_count": 11,
   "id": "65783854",
   "metadata": {},
   "outputs": [],
   "source": [
    "tb=ob1.set_index('name')"
   ]
  },
  {
   "cell_type": "code",
   "execution_count": 12,
   "id": "3757d065",
   "metadata": {},
   "outputs": [
    {
     "data": {
      "text/html": [
       "<div>\n",
       "<style scoped>\n",
       "    .dataframe tbody tr th:only-of-type {\n",
       "        vertical-align: middle;\n",
       "    }\n",
       "\n",
       "    .dataframe tbody tr th {\n",
       "        vertical-align: top;\n",
       "    }\n",
       "\n",
       "    .dataframe thead th {\n",
       "        text-align: right;\n",
       "    }\n",
       "</style>\n",
       "<table border=\"1\" class=\"dataframe\">\n",
       "  <thead>\n",
       "    <tr style=\"text-align: right;\">\n",
       "      <th></th>\n",
       "      <th>mean</th>\n",
       "      <th>std</th>\n",
       "    </tr>\n",
       "    <tr>\n",
       "      <th>name</th>\n",
       "      <th></th>\n",
       "      <th></th>\n",
       "    </tr>\n",
       "  </thead>\n",
       "  <tbody>\n",
       "    <tr>\n",
       "      <th>HINDZINC</th>\n",
       "      <td>0.074517</td>\n",
       "      <td>1.843817</td>\n",
       "    </tr>\n",
       "    <tr>\n",
       "      <th>TATAMOTORS</th>\n",
       "      <td>0.129970</td>\n",
       "      <td>2.002644</td>\n",
       "    </tr>\n",
       "  </tbody>\n",
       "</table>\n",
       "</div>"
      ],
      "text/plain": [
       "                mean       std\n",
       "name                          \n",
       "HINDZINC    0.074517  1.843817\n",
       "TATAMOTORS  0.129970  2.002644"
      ]
     },
     "execution_count": 12,
     "metadata": {},
     "output_type": "execute_result"
    }
   ],
   "source": [
    "tb"
   ]
  },
  {
   "cell_type": "code",
   "execution_count": 13,
   "id": "4a10cd0d",
   "metadata": {},
   "outputs": [],
   "source": [
    "tb[tb['mean']>0].to_csv('STD.csv')"
   ]
  },
  {
   "cell_type": "code",
   "execution_count": 14,
   "id": "455feea8",
   "metadata": {},
   "outputs": [],
   "source": [
    "#stocks['INFY']['delivery']"
   ]
  },
  {
   "cell_type": "code",
   "execution_count": 15,
   "id": "4a1a17a3",
   "metadata": {},
   "outputs": [
    {
     "data": {
      "text/plain": [
       "['HINDZINC', 'TATAMOTORS']"
      ]
     },
     "execution_count": 15,
     "metadata": {},
     "output_type": "execute_result"
    }
   ],
   "source": [
    "list(stock_codes)"
   ]
  },
  {
   "cell_type": "markdown",
   "id": "7a0c5413",
   "metadata": {},
   "source": [
    "<h1> Analysis of individual Stocks <h1>"
   ]
  },
  {
   "cell_type": "code",
   "execution_count": 16,
   "id": "259587e3",
   "metadata": {},
   "outputs": [
    {
     "data": {
      "text/plain": [
       "dict_keys(['Name', 'gain', 'delivery', 'close', 'mean', 'std'])"
      ]
     },
     "execution_count": 16,
     "metadata": {},
     "output_type": "execute_result"
    }
   ],
   "source": [
    "stocks[ph_name].keys()"
   ]
  },
  {
   "cell_type": "code",
   "execution_count": 17,
   "id": "247af88c",
   "metadata": {},
   "outputs": [],
   "source": [
    "factor1='delivery'\n",
    "factor2='gain'\n",
    "factor3='close'"
   ]
  },
  {
   "cell_type": "code",
   "execution_count": 18,
   "id": "696af741",
   "metadata": {},
   "outputs": [],
   "source": [
    "name='TATAMOTORS'   ###INPUT YOUR STOCK NAME HERE"
   ]
  },
  {
   "cell_type": "code",
   "execution_count": 19,
   "id": "d494caf4",
   "metadata": {},
   "outputs": [],
   "source": [
    "g1=stocks[name][factor1][1:]\n",
    "g2=stocks[name][factor2]\n",
    "g3=stocks[name][factor3]"
   ]
  },
  {
   "cell_type": "code",
   "execution_count": 34,
   "id": "d7eb2890",
   "metadata": {},
   "outputs": [
    {
     "data": {
      "image/png": "[encoded data removed]",
      "text/plain": [
       "<Figure size 864x864 with 4 Axes>"
      ]
     },
     "metadata": {},
     "output_type": "display_data"
    }
   ],
   "source": [
    "fig, ax = plt.subplots(2,2,figsize=(12,12))\n",
    "sns.lineplot(ax=ax[0][0],y=g1,x=np.arange(len(g1)),color='red').set_xlabel(factor1+'percent', fontsize = 20)\n",
    "sns.lineplot(ax=ax[0][1],y=g2,x=np.arange(len(g2)),color='blue').set_xlabel(factor2+'percent', fontsize = 20)\n",
    "sns.lineplot(ax=ax[1][0],y=g3,x=np.arange(len(g3)),color='green').set_xlabel(factor3, fontsize = 20)\n",
    "fig.suptitle(name,fontsize=16)\n",
    "sns.set_style(\"whitegrid\")\n",
    "plt.show()"
   ]
  },
  {
   "cell_type": "code",
   "execution_count": 21,
   "id": "17abc250",
   "metadata": {},
   "outputs": [],
   "source": [
    "from statistics import mean\n",
    "from statistics import stdev\n",
    "s1=pd.Series(stocks[name]['gain'])\n",
    "p=s1[s1>0]\n",
    "n=s1[s1<0]\n",
    "if(len(n)==0):\n",
    "    n=[0]\n",
    "if(len(p)==0):\n",
    "    p=[0]\n",
    "avg=mean(s1)\n",
    "pos_mean=mean(p)\n",
    "pos_max=max(p)\n",
    "neg_mean=mean(n)\n",
    "neg_min=min(n)\n",
    "gain_days_prob=len(p)/len(s1)\n",
    "loss_days_prob=len(n)/len(s1)"
   ]
  },
  {
   "cell_type": "code",
   "execution_count": null,
   "id": "836edd4e",
   "metadata": {},
   "outputs": [],
   "source": []
  },
  {
   "cell_type": "code",
   "execution_count": 22,
   "id": "ed44c469",
   "metadata": {},
   "outputs": [],
   "source": [
    "tb=pd.DataFrame(index=[name])\n",
    "tb['max_pos']=pos_max\n",
    "tb['mean_pos']=pos_mean\n",
    "tb['min_neg']=neg_min\n",
    "tb['mean_neg']=neg_mean\n",
    "tb['mean']=avg\n",
    "tb['gain_days_prob']=gain_days_prob\n",
    "tb['loss_days_prob']=loss_days_prob"
   ]
  },
  {
   "cell_type": "code",
   "execution_count": 25,
   "id": "a05b4d14",
   "metadata": {},
   "outputs": [
    {
     "data": {
      "text/html": [
       "<div>\n",
       "<style scoped>\n",
       "    .dataframe tbody tr th:only-of-type {\n",
       "        vertical-align: middle;\n",
       "    }\n",
       "\n",
       "    .dataframe tbody tr th {\n",
       "        vertical-align: top;\n",
       "    }\n",
       "\n",
       "    .dataframe thead th {\n",
       "        text-align: right;\n",
       "    }\n",
       "</style>\n",
       "<table border=\"1\" class=\"dataframe\">\n",
       "  <thead>\n",
       "    <tr style=\"text-align: right;\">\n",
       "      <th></th>\n",
       "      <th>max_pos</th>\n",
       "      <th>mean_pos</th>\n",
       "      <th>min_neg</th>\n",
       "      <th>mean_neg</th>\n",
       "      <th>mean</th>\n",
       "      <th>gain_days_prob</th>\n",
       "      <th>loss_days_prob</th>\n",
       "    </tr>\n",
       "  </thead>\n",
       "  <tbody>\n",
       "    <tr>\n",
       "      <th>TATAMOTORS</th>\n",
       "      <td>4.308854</td>\n",
       "      <td>1.423948</td>\n",
       "      <td>-8.436868</td>\n",
       "      <td>-1.583133</td>\n",
       "      <td>0.12997</td>\n",
       "      <td>0.564815</td>\n",
       "      <td>0.425926</td>\n",
       "    </tr>\n",
       "  </tbody>\n",
       "</table>\n",
       "</div>"
      ],
      "text/plain": [
       "             max_pos  mean_pos   min_neg  mean_neg     mean  gain_days_prob  \\\n",
       "TATAMOTORS  4.308854  1.423948 -8.436868 -1.583133  0.12997        0.564815   \n",
       "\n",
       "            loss_days_prob  \n",
       "TATAMOTORS        0.425926  "
      ]
     },
     "execution_count": 25,
     "metadata": {},
     "output_type": "execute_result"
    }
   ],
   "source": [
    "tb"
   ]
  },
  {
   "cell_type": "code",
   "execution_count": 27,
   "id": "0c007fb1",
   "metadata": {},
   "outputs": [
    {
     "data": {
      "text/plain": [
       "['max_pos',\n",
       " 'mean_pos',\n",
       " 'min_neg',\n",
       " 'mean_neg',\n",
       " 'mean',\n",
       " 'gain_days_prob',\n",
       " 'loss_days_prob']"
      ]
     },
     "execution_count": 27,
     "metadata": {},
     "output_type": "execute_result"
    }
   ],
   "source": [
    "list(tb.columns)"
   ]
  }
 ],
 "metadata": {
  "kernelspec": {
   "display_name": "Python 3",
   "language": "python",
   "name": "python3"
  },
  "language_info": {
   "codemirror_mode": {
    "name": "ipython",
    "version": 3
   },
   "file_extension": ".py",
   "mimetype": "text/x-python",
   "name": "python",
   "nbconvert_exporter": "python",
   "pygments_lexer": "ipython3",
   "version": "3.6.3"
  }
 },
 "nbformat": 4,
 "nbformat_minor": 5
}
