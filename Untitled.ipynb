{
 "cells": [
  {
   "cell_type": "code",
   "execution_count": 140,
   "metadata": {},
   "outputs": [],
   "source": [
    "from nsetools import Nse\n",
    "import pandas as pd\n",
    "import tqdm\n",
    "nse = Nse()"
   ]
  },
  {
   "cell_type": "code",
   "execution_count": null,
   "metadata": {},
   "outputs": [],
   "source": []
  },
  {
   "cell_type": "code",
   "execution_count": 2,
   "metadata": {},
   "outputs": [],
   "source": [
    "company_data=pd.read_csv(\"companies.csv\")\n",
    "company=list(company_data['Company'])"
   ]
  },
  {
   "cell_type": "code",
   "execution_count": 3,
   "metadata": {},
   "outputs": [],
   "source": [
    "###Historical Data Fetch ####\n",
    "from datetime import date ,timedelta\n",
    "from nsepy import get_history"
   ]
  },
  {
   "cell_type": "code",
   "execution_count": 4,
   "metadata": {},
   "outputs": [],
   "source": [
    "today=date.today()-timedelta(days=0)\n",
    "past=date.today()-timedelta(days=8)\n",
    "past=past.strftime(\"%m/%d/%y\")\n",
    "today=today.strftime(\"%m/%d/%y\")"
   ]
  },
  {
   "cell_type": "code",
   "execution_count": 5,
   "metadata": {},
   "outputs": [],
   "source": [
    "today=list(map(int,today.split('/')))\n",
    "past=list(map(int,past.split('/')))"
   ]
  },
  {
   "cell_type": "code",
   "execution_count": 6,
   "metadata": {},
   "outputs": [
    {
     "data": {
      "text/plain": [
       "[4, 2, 21]"
      ]
     },
     "execution_count": 6,
     "metadata": {},
     "output_type": "execute_result"
    }
   ],
   "source": [
    "today\n",
    "past"
   ]
  },
  {
   "cell_type": "code",
   "execution_count": null,
   "metadata": {},
   "outputs": [],
   "source": []
  },
  {
   "cell_type": "code",
   "execution_count": 150,
   "metadata": {},
   "outputs": [
    {
     "name": "stderr",
     "output_type": "stream",
     "text": [
      "100%|██████████████████████████████████████████████████████████████████████████████████| 10/10 [00:01<00:00,  7.42it/s]\n"
     ]
    }
   ],
   "source": [
    "###Fetching Last 15 days Data ####\n",
    "stocks=pd.DataFrame()\n",
    "for i in tqdm.tqdm(company[:10]):\n",
    "    data=pd.DataFrame()\n",
    "    curr_data=pd.DataFrame()\n",
    "    com = get_history(symbol=i,\n",
    "                       start=date(2000+past[2],past[0],past[1]),\n",
    "                       end=date(2000+today[2],today[0],today[1]))\n",
    "    symbol=list(com.Symbol)\n",
    "    Last=list(map(int,com.Close))\n",
    "    volume=list(com.Volume)\n",
    "    Deliver_vol=list(com['Deliverable Volume'])\n",
    "    Deliver_per=list(com['%Deliverble'])\n",
    "    sym=[]\n",
    "    Last_change=[]\n",
    "    Volume_change=[]\n",
    "    Deliver_change=[]\n",
    "    Deliver_per_change=[]\n",
    "    for j in range(com.shape[0]-1):\n",
    "        sym.append(symbol[j+1])\n",
    "        Last_change.append(100*(Last[j+1]-Last[j])/Last[j])\n",
    "        Volume_change.append(100*(volume[j+1]-volume[j])/volume[j])\n",
    "        Deliver_change.append(100*(Deliver_vol[j+1]-Deliver_vol[j])/Deliver_vol[j])\n",
    "        Deliver_per_change.append((Deliver_per[j+1]-Deliver_per[j])/Deliver_per[j])\n",
    "    curr_data['sym']=sym\n",
    "    curr_data['Price_change']=Last_change\n",
    "    curr_data['Volume_change']=Volume_change\n",
    "    curr_data['Deliver_change']=Deliver_change\n",
    "    curr_data['Deliver_per']=Deliver_per_change\n",
    "    for  k in range(curr_data.shape[0]):\n",
    "        tmp=curr_data.iloc[[k]]\n",
    "        tmp.reset_index(drop=True, inplace=True)\n",
    "        if(k>0):\n",
    "            tmp=tmp.drop(['sym'],axis=1)\n",
    "        data=pd.concat([data,tmp],axis=1)\n",
    "    stocks=pd.concat([stocks,data],axis=0)\n",
    "    #print('Done')"
   ]
  },
  {
   "cell_type": "code",
   "execution_count": 154,
   "metadata": {},
   "outputs": [],
   "source": [
    "stocks.to_csv(\"Mystocks.csv\",index=False)"
   ]
  },
  {
   "cell_type": "code",
   "execution_count": null,
   "metadata": {},
   "outputs": [],
   "source": []
  }
 ],
 "metadata": {
  "kernelspec": {
   "display_name": "Python 3",
   "language": "python",
   "name": "python3"
  },
  "language_info": {
   "codemirror_mode": {
    "name": "ipython",
    "version": 3
   },
   "file_extension": ".py",
   "mimetype": "text/x-python",
   "name": "python",
   "nbconvert_exporter": "python",
   "pygments_lexer": "ipython3",
   "version": "3.7.4"
  }
 },
 "nbformat": 4,
 "nbformat_minor": 4
}
